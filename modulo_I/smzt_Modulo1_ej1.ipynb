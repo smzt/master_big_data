{
 "cells": [
  {
   "cell_type": "markdown",
   "metadata": {},
   "source": [
    "El script generado para el Ejercicio 1 del primero Módulo calcula el valor del sentimiento de los tweets incluidos en el archivo \"salida_tweets.txt\" teniendo en cuenta los términos y valores asociados del archivo \"Sentimientos.txt\". El script consta de 2 funciones, la función principal 'main' y una función adicional 'calcular_sentimiento' que permite chequear para cada tweet si la(s) palabra(s) del listado de \"Sentimientos.txt\" existen dentro de los tweets y calcular el valor del sentimiento asociado al tweet sumando los valores vinculados a cada palabra(s) según este archivo. Siguiendo los criterios de evaluación el script tiene las siguientes funcionalidades:\n",
    "1) Aquellos tweets que no tienen un “sentimiento” asociado en el archivo obtienen una puntuación de 0. \n",
    "2) Se muestra por pantalla, para cada tweet, 2 columnas. La primera de ellas, \"Tweet_ID\" que corresponde a la etiqueta \"id\" dentro del tweet y su formato json. La segunda columna, es un valor numérico que representa el sentimiento del tweet y que se denomina \"Sentimiento\".\n",
    "3) El programa tiene como parámetros obligatorios de entrada el archivo que contiene los sentimientos de los términos (parámetro -sentimientos) y el archivo que contiene los tweets (parámetro -tweets).\n",
    "\n",
    "Adicionalmente:\n",
    "1) El script solamente identificará en los tweets aquellas palabras que coincidan completamente con éstas, ignorando las coincidencias/solapamientos parciales.\n",
    "2) Se ignoran las líneas que no tienen el atributo \"text\" en los tweets."
   ]
  },
  {
   "cell_type": "code",
   "execution_count": 1,
   "metadata": {
    "collapsed": true
   },
   "outputs": [
    {
     "name": "stderr",
     "output_type": "stream",
     "text": [
      "usage: ipykernel_launcher.py [-h] [--sentimientos SENTIMIENTOS]\n                             [--tweets TWEETS]\nipykernel_launcher.py: error: unrecognized arguments: -f /run/user/1000/jupyter/kernel-0b71e0a2-e848-4bed-bf58-8478c6a74197.json\n"
     ]
    },
    {
     "ename": "SystemExit",
     "evalue": "2",
     "traceback": [
      "An exception has occurred, use %tb to see the full traceback.\n",
      "\u001b[0;31mSystemExit\u001b[0m\u001b[0;31m:\u001b[0m 2\n"
     ],
     "output_type": "error"
    }
   ],
   "source": [
    "#!/usr/bin/python\n",
    "import argparse\n",
    "import json\n",
    "import re\n",
    "\n",
    "def calcular_sentimiento(texto_un_tweet, valores):\n",
    "    valor_sentimiento = 0\n",
    "    for palabras,puntuacion in valores.items():\n",
    "        if bool(re.search(re.compile(r'\\b'+palabras.lower()+r'\\b'), texto_un_tweet.lower())):\n",
    "            valor_sentimiento += puntuacion\n",
    "    return valor_sentimiento\n",
    "\n",
    "def main(argumentos):\n",
    "    \n",
    "    sentimientos = open(argumentos.sentimientos,'r')\n",
    "    print \"Tweet_ID\\tSentimiento\"\n",
    "    valores = {}\n",
    "    for linea in sentimientos:\n",
    "        termino, valor = linea.split(\"\\t\")\n",
    "        valores[termino] = int(valor)\n",
    "\n",
    "    for line in open(argumentos.tweets, 'r'):\n",
    "        one_tweet = json.loads(line)\n",
    "        if \"text\" in one_tweet:\n",
    "            print str(one_tweet['id']) +\"\\t\"+ str(calcular_sentimiento(one_tweet['text'].encode('utf-8').strip(),valores))\n",
    "    sentimientos.close()\n",
    "\n",
    "parser = argparse.ArgumentParser(description='Este programa muestra pantalla un valor numerico en cada linea que '\n",
    "                                             'representa el sentimiento de un tweet')\n",
    "parser.add_argument('--sentimientos', dest='sentimientos', action='store',\n",
    "                    help='ruta completa al fichero de sentimientos')\n",
    "parser.add_argument('--tweets', dest='tweets', action='store',\n",
    "                    help='ruta completa al fichero de tweets')\n",
    "\n",
    "argumentos = parser.parse_args()\n",
    "main(argumentos)\n"
   ]
  },
  {
   "cell_type": "code",
   "execution_count": null,
   "metadata": {},
   "outputs": [],
   "source": []
  }
 ],
 "metadata": {
  "kernelspec": {
   "display_name": "Python 2",
   "language": "python",
   "name": "python2"
  },
  "language_info": {
   "codemirror_mode": {
    "name": "ipython",
    "version": 2
   },
   "file_extension": ".py",
   "mimetype": "text/x-python",
   "name": "python",
   "nbconvert_exporter": "python",
   "pygments_lexer": "ipython2",
   "version": "2.7.6"
  }
 },
 "nbformat": 4,
 "nbformat_minor": 0
}
